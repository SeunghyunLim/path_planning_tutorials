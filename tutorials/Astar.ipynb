{
 "cells": [
  {
   "cell_type": "code",
   "execution_count": 1,
   "id": "a28df614",
   "metadata": {},
   "outputs": [
    {
     "name": "stdout",
     "output_type": "stream",
     "text": [
      "Collecting pyfmm\n",
      "Installing collected packages: pyfmm\n",
      "Successfully installed pyfmm-0.3\n"
     ]
    }
   ],
   "source": [
    "! pip install pyfmm"
   ]
  },
  {
   "cell_type": "code",
   "execution_count": 2,
   "id": "69aa6bcc",
   "metadata": {},
   "outputs": [],
   "source": [
    "import matplotlib.pyplot as plt\n",
    "import time\n",
    "import cv2\n",
    "import numpy as np\n",
    "from PIL import Image\n",
    "from IPython.display import display\n",
    "from utils import *\n",
    "\n",
    "import warnings\n",
    "warnings.filterwarnings(action='ignore') "
   ]
  },
  {
   "cell_type": "code",
   "execution_count": 3,
   "id": "fd7a3b6f",
   "metadata": {},
   "outputs": [],
   "source": [
    "class Node():\n",
    "    \"\"\"A node class for A* Pathfinding\"\"\"\n",
    "\n",
    "    def __init__(self, parent=None, position=None):\n",
    "        self.parent = parent\n",
    "        self.position = position\n",
    "        self.g = 0\n",
    "        self.h = 0\n",
    "        self.f = 0\n",
    "        # new distance cost\n",
    "        self.dc = 0\n",
    "\n",
    "    def __eq__(self, other):\n",
    "        return self.position == other.position"
   ]
  },
  {
   "cell_type": "code",
   "execution_count": 4,
   "id": "d953a65a",
   "metadata": {},
   "outputs": [],
   "source": [
    "global DISTANCECOSTMAP\n",
    "\n",
    "def distcost(x, y, safety_value=100):\n",
    "    \"\"\"\n",
    "    Large safty value makes the path more away from the wall.\n",
    "    If it is too large, almost grid will get max cost\n",
    "    which leads to eliminate the meaning of distance cost.\n",
    "    \"\"\"\n",
    "    global DISTANCECOSTMAP\n",
    "    max_distance_cost = np.max(DISTANCECOSTMAP)\n",
    "    distance_cost = max_distance_cost-DISTANCECOSTMAP[x][y]\n",
    "    return safety_value * distance_cost"
   ]
  },
  {
   "cell_type": "code",
   "execution_count": 5,
   "id": "67e3b38a",
   "metadata": {},
   "outputs": [],
   "source": [
    "def astar(maze, start, end, distance_cost=False):\n",
    "\n",
    "    \"\"\"Returns a list of tuples as a path from the given start to the given end in the given maze\"\"\"\n",
    "    # Create start and end node\n",
    "    start_node = Node(None, start)\n",
    "    start_node.g = start_node.h = start_node.f = 0\n",
    "    end_node = Node(None, end)\n",
    "    end_node.g = end_node.h = end_node.f = 0\n",
    "\n",
    "    # Initialize both open and closed list\n",
    "    global checked_positions\n",
    "    checked_positions = []\n",
    "    open_list = []\n",
    "    closed_list = []\n",
    "    # Check if start or end node is on the obstacle\n",
    "    if maze[start[0]][start[1]] == 1:\n",
    "        print(\"Start node is not walkable terrain\")\n",
    "    if maze[end[0]][end[1]] == 1:\n",
    "        print(\"End node is not walkable terrain\")\n",
    "    # Add the start node\n",
    "    open_list.append(start_node)\n",
    "\n",
    "    # Loop until you find the end\n",
    "    while len(open_list) > 0:\n",
    "        # Get the current node\n",
    "        # Refresh the current node\n",
    "        current_node = open_list[0]\n",
    "        current_index = 0\n",
    "        for index, item in enumerate(open_list):\n",
    "            if item.f < current_node.f:\n",
    "                current_node = item\n",
    "                current_index = index\n",
    "\n",
    "        # Pop current off open list, add to closed list\n",
    "        open_list.pop(current_index)\n",
    "        closed_list.append(current_node)\n",
    "\n",
    "        # Found the goal node\n",
    "        if current_node == end_node:\n",
    "            path = []\n",
    "            current = current_node\n",
    "            # accumulate parents nodes to draw the path\n",
    "            while current is not None:\n",
    "                path.append(current.position)\n",
    "                current = current.parent\n",
    "            return path[::-1] # Return reversed path\n",
    "\n",
    "        # Generate children\n",
    "        children = []\n",
    "        for new_position in [(0, -1), (0, 1), (-1, 0), (1, 0), (-1, -1), (-1, 1), (1, -1), (1, 1)]: # Adjacent squares\n",
    "\n",
    "            # Get node position (8 neighborhoods)\n",
    "            node_position = (current_node.position[0] + new_position[0], current_node.position[1] + new_position[1])\n",
    "\n",
    "            # Make sure within range\n",
    "            if node_position[0] > (len(maze) - 1) or node_position[0] < 0 or node_position[1] > (len(maze[len(maze)-1]) -1) or node_position[1] < 0:\n",
    "                continue\n",
    "\n",
    "            # Make sure walkable terrain\n",
    "            if maze[node_position[0]][node_position[1]] != 0:\n",
    "                continue\n",
    "\n",
    "            # Avoid infinite loop by checking closed list\n",
    "            if Node(current_node, node_position) in closed_list:\n",
    "                continue\n",
    "\n",
    "            # Create new node\n",
    "            new_node = Node(current_node, node_position)\n",
    "\n",
    "            # Append\n",
    "            children.append(new_node)\n",
    "            checked_positions.append(new_node.position)\n",
    "        # Loop through children\n",
    "        for child in children:\n",
    "            # Child is on the closed list\n",
    "            for closed_child in closed_list:\n",
    "                if child == closed_child:\n",
    "                    break\n",
    "            else:\n",
    "                # Create the f, g, and h values\n",
    "                child.g = (current_node.g + np.sqrt((child.position[0]-current_node.position[0])**2+(child.position[1]-current_node.position[1])**2))\n",
    "                #child.g = current_node.g + 1\n",
    "                child.h = np.sqrt(((child.position[0] - end_node.position[0]) ** 2) + ((child.position[1] - end_node.position[1]) ** 2))\n",
    "                # New cost 'distance cost' as dc\n",
    "                # The weight of the distance cost has been set to make the path at least 3 grid away from the obstacles.\n",
    "                if distance_cost:\n",
    "                    child.dc = distcost(child.position[0], child.position[1])\n",
    "                    child.f = child.g + child.h + child.dc\n",
    "                else:\n",
    "                    child.f = child.g + child.h\n",
    "\n",
    "            # Child is already in the open list\n",
    "            for open_node in open_list:\n",
    "                if child == open_node and child.g >= open_node.g:\n",
    "                    break\n",
    "            else:\n",
    "                # Add the child to the open list\n",
    "                open_list.append(child)\n"
   ]
  },
  {
   "cell_type": "code",
   "execution_count": 6,
   "id": "747a1f7e",
   "metadata": {},
   "outputs": [],
   "source": [
    "def pathplanning(start, end, image_path, distance_cost=False, verbose=False):\n",
    "    global DISTANCECOSTMAP\n",
    "    # Running Time Check\n",
    "    starttime = time.time()\n",
    "\n",
    "    # Convert map image to binary list\n",
    "    img = cv2.imread(image_path)\n",
    "    maze, DISTANCECOSTMAP = img2binList(img, lenWidth=100, GRID_SIZE=1, verbose=0) # for map.png, lenWidth=100, GRID_SIZE=1\n",
    "    \n",
    "    # Start and End point setting\n",
    "\n",
    "    print(\"Start =\", start, '\\n', \"End =\", end)\n",
    "\n",
    "    # Procedure Checking\n",
    "    print(\" \", \"Path planning Proceeding...\", \" \")\n",
    "\n",
    "    path = astar(maze, start, end, distance_cost)\n",
    "    print(\"Path planning Succeed\")\n",
    "    print(\"time :\", time.time() - starttime)\n",
    "\n",
    "    if verbose:\n",
    "        # Visualizing binary map and generated path\n",
    "        showmaze = np.array(maze).astype(np.uint8)\n",
    "        showmaze *= 255\n",
    "        showmaze = np.stack((showmaze,)*3, axis=-1)\n",
    "        num_of_searched_node = 0\n",
    "        \"\"\"\n",
    "        for walkable in walkable_plane_list(100, 100):          # checking walkable plane\n",
    "        showmaze[walkable[0]][walkable[1]] = 60\n",
    "        \"\"\"\n",
    "        for searched in checked_positions:\n",
    "            showmaze[searched[0]][searched[1]] = [40, 40, 40]\n",
    "        for colorpath in path:\n",
    "            showmaze[colorpath[0]][colorpath[1]] = [200, 50, 200]\n",
    "            num_of_searched_node += 1\n",
    "\n",
    "        for i in [-1, 0, 1]:\n",
    "            for j in [-1, 0, 1]:\n",
    "                showmaze[start[0] - i][start[1] - j] = [0, 254, 0]\n",
    "                showmaze[end[0] - i][end[1] - j] = [0, 0, 254]\n",
    "        showmaze = cv2.resize(showmaze, None, fx=7, fy=7, interpolation=cv2.INTER_NEAREST)\n",
    "        \n",
    "        img = cv2.cvtColor(showmaze, cv2.COLOR_BGR2RGB)\n",
    "        display(Image.fromarray(img))\n",
    "        \n",
    "        if distance_cost:\n",
    "            plt.imshow(DISTANCECOSTMAP, interpolation='None')\n",
    "            plt.colorbar()\n",
    "            plt.title('DISTANCECOSTMAP')\n",
    "            plt.show()\n",
    "            plt.close()  # press 'Q' to exit\n",
    "\n",
    "    return path"
   ]
  },
  {
   "cell_type": "code",
   "execution_count": 7,
   "id": "18de0914",
   "metadata": {},
   "outputs": [
    {
     "name": "stdout",
     "output_type": "stream",
     "text": [
      "the map will be created by the size: 100 X 78\n",
      "Start = (10, 10) \n",
      " End = (60, 75)\n",
      "  Path planning Proceeding...  \n",
      "Path planning Succeed\n",
      "time : 4.202084064483643\n"
     ]
    },
    {
     "data": {
      "image/png": "[encoded data removed]",
      "text/plain": [
       "<PIL.Image.Image image mode=RGB size=700x546 at 0x7F23CA1889E8>"
      ]
     },
     "metadata": {},
     "output_type": "display_data"
    },
    {
     "name": "stdout",
     "output_type": "stream",
     "text": [
      "Path list: [(10, 10), (11, 11), (11, 12), (11, 13), (11, 14), (11, 15), (11, 16), (11, 17), (11, 18), (11, 19), (11, 20), (11, 21), (11, 22), (11, 23), (11, 24), (11, 25), (11, 26), (11, 27), (11, 28), (11, 29), (11, 30), (11, 31), (11, 32), (11, 33), (11, 34), (11, 35), (11, 36), (11, 37), (11, 38), (11, 39), (11, 40), (11, 41), (11, 42), (12, 43), (13, 44), (14, 45), (15, 46), (16, 47), (17, 48), (17, 49), (17, 50), (17, 51), (17, 52), (17, 53), (17, 54), (18, 55), (18, 56), (18, 57), (18, 58), (19, 59), (19, 60), (20, 61), (20, 62), (21, 63), (21, 64), (22, 65), (23, 66), (23, 67), (24, 68), (25, 69), (26, 70), (26, 71), (27, 72), (28, 73), (29, 74), (30, 74), (31, 74), (32, 74), (33, 74), (34, 74), (35, 74), (36, 74), (37, 74), (38, 74), (39, 74), (40, 74), (41, 74), (42, 74), (43, 74), (44, 73), (45, 72), (46, 72), (47, 72), (48, 72), (49, 72), (50, 72), (51, 72), (52, 72), (53, 72), (54, 72), (55, 73), (56, 73), (57, 74), (58, 74), (59, 74), (60, 75)]\n"
     ]
    }
   ],
   "source": [
    "start = (10, 10) # for map.png\n",
    "end = (60, 75) # for map.png\n",
    "path = pathplanning(start, end, image_path=\"map.png\", verbose=True)\n",
    "print('Path list:', path)"
   ]
  },
  {
   "cell_type": "code",
   "execution_count": 8,
   "id": "b3100830",
   "metadata": {},
   "outputs": [
    {
     "name": "stdout",
     "output_type": "stream",
     "text": [
      "the map will be created by the size: 100 X 78\n",
      "Start = (10, 10) \n",
      " End = (60, 75)\n",
      "  Path planning Proceeding...  \n",
      "Path planning Succeed\n",
      "time : 3.3718528747558594\n"
     ]
    },
    {
     "data": {
      "image/png": "[encoded data removed]",
      "text/plain": [
       "<PIL.Image.Image image mode=RGB size=700x546 at 0x7F23C80A05F8>"
      ]
     },
     "metadata": {},
     "output_type": "display_data"
    },
    {
     "data": {
      "image/png": "[encoded data removed]",
      "text/plain": [
       "<Figure size 432x288 with 2 Axes>"
      ]
     },
     "metadata": {
      "needs_background": "light"
     },
     "output_type": "display_data"
    },
    {
     "name": "stdout",
     "output_type": "stream",
     "text": [
      "Path list: [(10, 10), (10, 11), (10, 12), (10, 13), (10, 14), (10, 15), (10, 16), (10, 17), (10, 18), (10, 19), (10, 20), (10, 21), (10, 22), (10, 23), (10, 24), (10, 25), (10, 26), (10, 27), (10, 28), (10, 29), (10, 30), (10, 31), (10, 32), (10, 33), (10, 34), (10, 35), (10, 36), (10, 37), (10, 38), (10, 39), (10, 40), (10, 41), (10, 42), (10, 43), (10, 44), (10, 45), (10, 46), (10, 47), (10, 48), (10, 49), (10, 50), (10, 51), (10, 52), (10, 53), (10, 54), (10, 55), (10, 56), (10, 57), (10, 58), (10, 59), (11, 60), (11, 61), (11, 62), (11, 63), (12, 64), (12, 65), (12, 66), (13, 67), (13, 68), (13, 69), (13, 70), (14, 71), (14, 72), (14, 73), (15, 74), (15, 75), (16, 76), (16, 77), (17, 78), (18, 79), (19, 80), (20, 81), (21, 81), (22, 81), (23, 81), (24, 81), (25, 81), (26, 81), (27, 81), (28, 81), (29, 81), (30, 81), (31, 81), (32, 80), (33, 79), (34, 78), (35, 78), (36, 77), (36, 76), (37, 75), (37, 74), (38, 73), (38, 72), (38, 71), (38, 70), (38, 69), (39, 68), (40, 68), (41, 67), (42, 66), (43, 66), (44, 65), (45, 65), (46, 64), (47, 64), (48, 63), (49, 63), (50, 64), (51, 65), (52, 66), (53, 67), (54, 68), (55, 69), (56, 70), (57, 71), (58, 72), (58, 73), (59, 74), (60, 75)]\n"
     ]
    }
   ],
   "source": [
    "start = (10, 10) # for map.png\n",
    "end = (60, 75) # for map.png\n",
    "path = pathplanning(start, end, image_path=\"map.png\", distance_cost=True, verbose=True)\n",
    "print('Path list:', path)"
   ]
  },
  {
   "cell_type": "code",
   "execution_count": null,
   "id": "8fda0824",
   "metadata": {},
   "outputs": [],
   "source": []
  }
 ],
 "metadata": {
  "kernelspec": {
   "display_name": "Python 3",
   "language": "python",
   "name": "python3"
  },
  "language_info": {
   "codemirror_mode": {
    "name": "ipython",
    "version": 3
   },
   "file_extension": ".py",
   "mimetype": "text/x-python",
   "name": "python",
   "nbconvert_exporter": "python",
   "pygments_lexer": "ipython3",
   "version": "3.6.9"
  }
 },
 "nbformat": 4,
 "nbformat_minor": 5
}
